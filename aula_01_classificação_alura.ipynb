{
  "nbformat": 4,
  "nbformat_minor": 0,
  "metadata": {
    "colab": {
      "name": "aula 01 classificação alura.ipynb",
      "version": "0.3.2",
      "provenance": [],
      "collapsed_sections": [],
      "include_colab_link": true
    },
    "kernelspec": {
      "name": "python3",
      "display_name": "Python 3"
    }
  },
  "cells": [
    {
      "cell_type": "markdown",
      "metadata": {
        "id": "view-in-github",
        "colab_type": "text"
      },
      "source": [
        "<a href=\"https://colab.research.google.com/github/RenatoGalindo/Hello/blob/master/aula_01_classifica%C3%A7%C3%A3o_alura.ipynb\" target=\"_parent\"><img src=\"https://colab.research.google.com/assets/colab-badge.svg\" alt=\"Open In Colab\"/></a>"
      ]
    },
    {
      "metadata": {
        "id": "Xy2bHBUwp0Ib",
        "colab_type": "code",
        "colab": {}
      },
      "cell_type": "code",
      "source": [
        "# algoritmo supervisionado \n",
        "# features (1 sim , 0 não)\n",
        "# pelo longo ?\n",
        "#perna curta ?\n",
        "#faz auau?\n",
        "\n",
        "porco1 = [0,1,0]\n",
        "porco2 = [0,1,1]\n",
        "porco3 = [1,1,0]\n",
        "\n",
        "cachorro1 = [0,1,1]\n",
        "cachorro2 = [1,0,1]\n",
        "cachorro3 = [1,1,1]\n",
        "\n",
        "#1 => porco , 0 => cachorro\n",
        "#dados= [porco1 ,porco2,porco3,cachorro1,cachorro2 ,cachorro3\n",
        "#os dados sempre estaram no eixo x\n",
        "train_x = [porco1 ,porco2,porco3,cachorro1,cachorro2 ,cachorro3]\n",
        "#classes sao as classificaçoes  ou seja eu preciso dizer um padrao para ser testado (algoritmo supervisionado )\n",
        "#as classes sempres estaram no eixo y\n",
        "#classes = [1,1,1,0,0,0]\n",
        "train_y =[1,1,1,0,0,0]"
      ],
      "execution_count": 0,
      "outputs": []
    },
    {
      "metadata": {
        "id": "2qABNlw_qxv4",
        "colab_type": "code",
        "outputId": "abc5e2e9-d82b-4e64-d040-84a0cf18f274",
        "colab": {
          "base_uri": "https://localhost:8080/",
          "height": 85
        }
      },
      "cell_type": "code",
      "source": [
        "#importaçao do modelo svm sklearn\n",
        "from sklearn.svm import LinearSVC\n",
        "\n",
        "#criação do modelo svc\n",
        "model = LinearSVC()\n",
        "#preenchendo o modelo com dados e as classes sao as afirmação humana que foi adicionada\n",
        "model.fit (train_x,train_y)"
      ],
      "execution_count": 50,
      "outputs": [
        {
          "output_type": "execute_result",
          "data": {
            "text/plain": [
              "LinearSVC(C=1.0, class_weight=None, dual=True, fit_intercept=True,\n",
              "     intercept_scaling=1, loss='squared_hinge', max_iter=1000,\n",
              "     multi_class='ovr', penalty='l2', random_state=None, tol=0.0001,\n",
              "     verbose=0)"
            ]
          },
          "metadata": {
            "tags": []
          },
          "execution_count": 50
        }
      ]
    },
    {
      "metadata": {
        "id": "TGnhZR5PsUPU",
        "colab_type": "code",
        "outputId": "42645165-257c-475a-f6d6-3374dbb799c5",
        "colab": {
          "base_uri": "https://localhost:8080/",
          "height": 34
        }
      },
      "cell_type": "code",
      "source": [
        "#um dado para teste para descobrir que tipo de animal e \n",
        "animal_misterioso = [1,1,1]\n",
        "#Significa modelo tenta prefer a categoria desse animal misterioso o resultado e 0 ou seja o animal e um cachorro\n",
        "model.predict([animal_misterioso])"
      ],
      "execution_count": 51,
      "outputs": [
        {
          "output_type": "execute_result",
          "data": {
            "text/plain": [
              "array([0])"
            ]
          },
          "metadata": {
            "tags": []
          },
          "execution_count": 51
        }
      ]
    },
    {
      "metadata": {
        "id": "12FauQheydm4",
        "colab_type": "code",
        "outputId": "1f5de15c-aafa-4f81-c662-218882b6698d",
        "colab": {
          "base_uri": "https://localhost:8080/",
          "height": 34
        }
      },
      "cell_type": "code",
      "source": [
        "misterio1 = [1,1,1]\n",
        "misterio2 = [1,1,0]\n",
        "misterio3 = [0,1,1]\n",
        "\n",
        "test_x = [misterio1,misterio2,misterio3]\n",
        "previsoes = model.predict(test_x)\n",
        "print(previsoes)"
      ],
      "execution_count": 52,
      "outputs": [
        {
          "output_type": "stream",
          "text": [
            "[0 1 0]\n"
          ],
          "name": "stdout"
        }
      ]
    },
    {
      "metadata": {
        "id": "-GGfld2bz9D5",
        "colab_type": "code",
        "colab": {}
      },
      "cell_type": "code",
      "source": [
        ""
      ],
      "execution_count": 0,
      "outputs": []
    },
    {
      "metadata": {
        "id": "a5Tu1Xey2l4J",
        "colab_type": "code",
        "colab": {}
      },
      "cell_type": "code",
      "source": [
        "test_y = [0,1,1]\n",
        "\n"
      ],
      "execution_count": 0,
      "outputs": []
    },
    {
      "metadata": {
        "id": "sk_DhEja5M0p",
        "colab_type": "code",
        "outputId": "22a18b75-647c-49e7-eda9-37236fbef521",
        "colab": {
          "base_uri": "https://localhost:8080/",
          "height": 34
        }
      },
      "cell_type": "code",
      "source": [
        "previsoes == test_y"
      ],
      "execution_count": 54,
      "outputs": [
        {
          "output_type": "execute_result",
          "data": {
            "text/plain": [
              "array([ True,  True, False])"
            ]
          },
          "metadata": {
            "tags": []
          },
          "execution_count": 54
        }
      ]
    },
    {
      "metadata": {
        "id": "YOkhk0RX5SRg",
        "colab_type": "code",
        "outputId": "76eb1ba1-159f-4a04-b487-c8d7f922769f",
        "colab": {
          "base_uri": "https://localhost:8080/",
          "height": 34
        }
      },
      "cell_type": "code",
      "source": [
        "corretos = (previsoes == test_y).sum()\n",
        "total = len(test_x)\n",
        "taxa_de_acerto = corretos/total\n",
        "\n",
        "print(\"taxta de acerto:\", taxa_de_acerto*100)"
      ],
      "execution_count": 55,
      "outputs": [
        {
          "output_type": "stream",
          "text": [
            "taxta de acerto: 66.66666666666666\n"
          ],
          "name": "stdout"
        }
      ]
    },
    {
      "metadata": {
        "id": "IEVa2dmz8IbA",
        "colab_type": "code",
        "outputId": "03bfedc8-c7ef-4532-ce40-c6986ce6865a",
        "colab": {
          "base_uri": "https://localhost:8080/",
          "height": 34
        }
      },
      "cell_type": "code",
      "source": [
        "from sklearn.metrics import accuracy_score\n",
        "\n",
        "taxa_de_acerto = accuracy_score(test_y ,previsoes)\n",
        "\n",
        "print(\"taxta de acerto:\", taxa_de_acerto*100)"
      ],
      "execution_count": 56,
      "outputs": [
        {
          "output_type": "stream",
          "text": [
            "taxta de acerto: 66.66666666666666\n"
          ],
          "name": "stdout"
        }
      ]
    },
    {
      "metadata": {
        "id": "iZp1xxk_8oTh",
        "colab_type": "code",
        "colab": {}
      },
      "cell_type": "code",
      "source": [
        ""
      ],
      "execution_count": 0,
      "outputs": []
    }
  ]
}